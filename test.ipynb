{
  "cells": [
    {
      "cell_type": "code",
      "execution_count": null,
      "id": "3Zsa50vycAoa",
      "metadata": {
        "id": "3Zsa50vycAoa"
      },
      "outputs": [],
      "source": [
        "import sys\n",
        "from torch.nn.utils.rnn import pad_sequence\n",
        "sys.path.append(\"./Incontext-learning\") # this part works for goole colab"
      ]
    },
    {
      "cell_type": "code",
      "source": [
        "import utility\n",
        "import metric\n",
        "import importlib\n",
        "importlib.reload(utility)\n",
        "importlib.reload(metric)\n",
        "from utility import data_selection\n",
        "from metric import Rec2FTP"
      ],
      "metadata": {
        "id": "CM2tO10Z552-"
      },
      "id": "CM2tO10Z552-",
      "execution_count": null,
      "outputs": []
    },
    {
      "cell_type": "code",
      "execution_count": null,
      "id": "937daa06",
      "metadata": {
        "id": "937daa06"
      },
      "outputs": [],
      "source": [
        "import transformers\n",
        "import torch"
      ]
    },
    {
      "cell_type": "code",
      "execution_count": null,
      "id": "Yev1fLLLKSqF",
      "metadata": {
        "id": "Yev1fLLLKSqF"
      },
      "outputs": [],
      "source": [
        "device = \"cuda\" if torch.cuda.is_available() else \"cpu\""
      ]
    },
    {
      "cell_type": "markdown",
      "id": "d88f461b",
      "metadata": {
        "id": "d88f461b"
      },
      "source": [
        "# check point"
      ]
    },
    {
      "cell_type": "code",
      "execution_count": null,
      "id": "ddf39116",
      "metadata": {
        "id": "ddf39116"
      },
      "outputs": [],
      "source": [
        "from transformers import AutoTokenizer, AutoModelForCausalLM, Trainer, TrainingArguments, DataCollatorForLanguageModeling\n",
        "from datasets import load_dataset\n",
        "\n",
        "# Load SST-2 dataset\n",
        "dataset = load_dataset(\"glue\", \"sst2\")\n",
        "\n",
        "# Load Qwen3 tokenizer and model\n",
        "model_name = \"Qwen/Qwen3-0.6B\"\n",
        "model_path = \"/home/students/wli/UniHeidelberg/semster2/final_projects/models/Qwen3-0.6B-Base\"\n",
        "model_path = model_name\n",
        "tokenizer = AutoTokenizer.from_pretrained(model_path)\n",
        "model = AutoModelForCausalLM.from_pretrained(model_path).to(device)\n",
        "\n",
        "# Make sure tokenizer has pad token\n",
        "if tokenizer.pad_token is None:\n",
        "    tokenizer.pad_token = tokenizer.eos_token\n"
      ]
    },
    {
      "cell_type": "code",
      "source": [],
      "metadata": {
        "id": "VGnN8Sili5wE"
      },
      "id": "VGnN8Sili5wE",
      "execution_count": null,
      "outputs": []
    },
    {
      "cell_type": "code",
      "execution_count": null,
      "id": "a3a6126b",
      "metadata": {
        "id": "a3a6126b"
      },
      "outputs": [],
      "source": [
        "train_dataset = dataset[\"train\"].select(range(300)) # the orginal paper use this\n",
        "test_dataset = dataset[\"validation\"].select(range(300,700))\n",
        "# Format examples as causal LM inputs\n",
        "def preprocess_function(examples):\n",
        "    label_map = {0: \"negative\", 1: \"positive\"}\n",
        "    inputs = [\n",
        "        f\"Sentence: {sentence} Label: {label_map[label]}\"\n",
        "        for sentence, label in zip(examples[\"sentence\"], examples[\"label\"])\n",
        "    ]\n",
        "    # Tokenize with padding/truncation\n",
        "    tokenized = tokenizer(\n",
        "        inputs,\n",
        "        truncation=True,\n",
        "        padding=False,\n",
        "        max_length=256,\n",
        "        # return_tensors=\"pt\"\n",
        "        return_tensors=None\n",
        "    )\n",
        "    # Set labels equal to input_ids for causal LM loss\n",
        "    tokenized[\"labels\"] = tokenized[\"input_ids\"].copy()\n",
        "    return tokenized\n",
        "\n",
        "# Tokenize the dataset\n",
        "# tokenized_datasets = dataset.map(preprocess_function, batched=True, remove_columns=dataset[\"train\"].column_names)\n",
        "train_tokenized_datasets = train_dataset.map(preprocess_function, batched = True, remove_columns = train_dataset.column_names)\n",
        "test_tokenized_datasets = test_dataset.map(preprocess_function, batched=True, remove_columns=test_dataset.column_names)\n",
        "# Data collator (handles padding dynamically in batch)\n",
        "data_collator = DataCollatorForLanguageModeling(tokenizer=tokenizer, mlm=False)\n"
      ]
    },
    {
      "cell_type": "code",
      "source": [],
      "metadata": {
        "id": "QiTHCbBBkBmN"
      },
      "id": "QiTHCbBBkBmN",
      "execution_count": null,
      "outputs": []
    },
    {
      "cell_type": "code",
      "source": [
        "# test the behavior of LLM before fine tuing\n",
        "prompt = \"Sentence: The movie was good. Label:\"\n",
        "inputs = tokenizer(prompt, return_tensors=\"pt\").to(device)\n",
        "# You can control max_length or early stopping\n",
        "output_ids = model.generate(\n",
        "    **inputs,\n",
        "    max_new_tokens=1,    # adjust based on expected label length\n",
        "    do_sample=False       # greedy decoding\n",
        ")\n",
        "\n",
        "# Decode generated tokens\n",
        "generated_text = tokenizer.decode(output_ids[0], skip_special_tokens=True)\n",
        "print(generated_text)"
      ],
      "metadata": {
        "id": "VfOgObQEcX31"
      },
      "id": "VfOgObQEcX31",
      "execution_count": null,
      "outputs": []
    },
    {
      "cell_type": "code",
      "source": [
        "outcome, candidate, demonstrations = data_selection(model, tokenizer, train_dataset,test_dataset, num_data_points=2, seed_max = 1)"
      ],
      "metadata": {
        "id": "rmsaMK_tZs-s"
      },
      "id": "rmsaMK_tZs-s",
      "execution_count": null,
      "outputs": []
    },
    {
      "cell_type": "code",
      "source": [],
      "metadata": {
        "id": "tt1cW_r1bkv-"
      },
      "id": "tt1cW_r1bkv-",
      "execution_count": null,
      "outputs": []
    },
    {
      "cell_type": "code",
      "source": [
        "Rec2FTP(model, model, tokenizer, demonstrations, test_dataset)\n"
      ],
      "metadata": {
        "id": "ArO1Sj0NZnYZ"
      },
      "id": "ArO1Sj0NZnYZ",
      "execution_count": null,
      "outputs": []
    },
    {
      "cell_type": "code",
      "execution_count": null,
      "id": "2b832d38",
      "metadata": {
        "id": "2b832d38"
      },
      "outputs": [],
      "source": [
        "# fine tune the model\n",
        "\n",
        "def custom_collator(features):\n",
        "    input_ids = [torch.tensor(f[\"input_ids\"], dtype=torch.long) for f in features]\n",
        "    attention_mask = [torch.tensor(f[\"attention_mask\"], dtype=torch.long) for f in features]\n",
        "    labels = [torch.tensor(f[\"labels\"], dtype=torch.long) for f in features]\n",
        "\n",
        "    input_ids = pad_sequence(input_ids, batch_first=True, padding_value=tokenizer.pad_token_id)\n",
        "    attention_mask = pad_sequence(attention_mask, batch_first=True, padding_value=0)\n",
        "    labels = pad_sequence(labels, batch_first=True, padding_value=-100)\n",
        "\n",
        "    return {\"input_ids\": input_ids, \"attention_mask\": attention_mask, \"labels\": labels}\n",
        "\n",
        "data_collator = custom_collator\n",
        "\n",
        "# Training arguments\n",
        "training_args = TrainingArguments(\n",
        "    output_dir=\"./qwen3_sst2_lm\",\n",
        "    eval_strategy=\"steps\",\n",
        "    eval_steps=1,\n",
        "    # save_steps=500,\n",
        "    logging_steps=1,\n",
        "    per_device_train_batch_size=8,\n",
        "    per_device_eval_batch_size=2,\n",
        "    # gradient_accumulation_steps=,\n",
        "    num_train_epochs=1,\n",
        "    learning_rate=5e-5,\n",
        "    # weight_decay=0.01,\n",
        "    # save_total_limit=1,\n",
        "    save_strategy = \"no\",\n",
        "    # fp16=True,\n",
        "    # push_to_hub=False,\n",
        "    report_to=\"none\"\n",
        ")\n",
        "\n",
        "\n",
        "# ** To do fine tuning here only need to fine tune the Key and Value\n",
        "# Initialize Trainer\n",
        "trainer = Trainer(\n",
        "    model=model,\n",
        "    args=training_args,\n",
        "    train_dataset=demonstrations.map(preprocess_function, batched=True, remove_columns=demonstrations.column_names),\n",
        "    eval_dataset=test_tokenized_datasets,\n",
        "    # tokenizer=tokenizer,\n",
        "    data_collator=data_collator\n",
        ")\n",
        "\n",
        "# Start training\n",
        "trainer.train()\n"
      ]
    },
    {
      "cell_type": "code",
      "source": [
        "prompt = \"Sentence: macdowell , whose wifty southern charm has anchored lighter affairs ... brings an absolutely riveting conviction to her role .  Label:\"\n",
        "inputs = tokenizer(prompt, return_tensors=\"pt\").to(device)\n",
        "# You can control max_length or early stopping\n",
        "output_ids = model.generate(\n",
        "    **inputs,\n",
        "    max_new_tokens=1,    # adjust based on expected label length\n",
        "    do_sample=False       # greedy decoding\n",
        ")\n",
        "\n",
        "# Decode generated tokens\n",
        "generated_text = tokenizer.decode(output_ids[0], skip_special_tokens=True)\n",
        "print(generated_text)\n"
      ],
      "metadata": {
        "id": "f7zmB03WXWPb"
      },
      "id": "f7zmB03WXWPb",
      "execution_count": null,
      "outputs": []
    },
    {
      "cell_type": "markdown",
      "source": [
        "Chooes 32 demonstration examples that can achieve the best validation porformance.\n",
        "\n",
        "In order to make questions much easier, I split the validation dataset into the train and test set. And to find the 32 examples that can achiveve the best porformance on the test data."
      ],
      "metadata": {
        "id": "1Q7BzmCRotPP"
      },
      "id": "1Q7BzmCRotPP"
    },
    {
      "cell_type": "code",
      "source": [],
      "metadata": {
        "id": "lcnhnnvLU_ft"
      },
      "id": "lcnhnnvLU_ft",
      "execution_count": null,
      "outputs": []
    }
  ],
  "metadata": {
    "colab": {
      "provenance": [],
      "gpuType": "T4"
    },
    "kernelspec": {
      "display_name": "NanoGPT",
      "language": "python",
      "name": "nanogpt"
    },
    "language_info": {
      "codemirror_mode": {
        "name": "ipython",
        "version": 3
      },
      "file_extension": ".py",
      "mimetype": "text/x-python",
      "name": "python",
      "nbconvert_exporter": "python",
      "pygments_lexer": "ipython3",
      "version": "3.12.9"
    },
    "accelerator": "GPU"
  },
  "nbformat": 4,
  "nbformat_minor": 5
}